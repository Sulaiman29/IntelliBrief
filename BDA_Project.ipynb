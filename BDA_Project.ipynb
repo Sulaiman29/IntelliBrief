{
  "nbformat": 4,
  "nbformat_minor": 0,
  "metadata": {
    "colab": {
      "provenance": [],
      "include_colab_link": true
    },
    "kernelspec": {
      "name": "python3",
      "display_name": "Python 3"
    },
    "language_info": {
      "name": "python"
    }
  },
  "cells": [
    {
      "cell_type": "markdown",
      "metadata": {
        "id": "view-in-github",
        "colab_type": "text"
      },
      "source": [
        "<a href=\"https://colab.research.google.com/github/Sulaiman29/IntelliBrief/blob/main/BDA_Project.ipynb\" target=\"_parent\"><img src=\"https://colab.research.google.com/assets/colab-badge.svg\" alt=\"Open In Colab\"/></a>"
      ]
    },
    {
      "cell_type": "code",
      "execution_count": null,
      "metadata": {
        "id": "_sgk8xh0slXo"
      },
      "outputs": [],
      "source": [
        "pip install fasttext"
      ]
    },
    {
      "cell_type": "code",
      "source": [
        "pip install rouge-score"
      ],
      "metadata": {
        "id": "rNz124ueceoD"
      },
      "execution_count": null,
      "outputs": []
    },
    {
      "cell_type": "code",
      "source": [
        "import fasttext\n",
        "import nltk\n",
        "from nltk.corpus import stopwords\n",
        "from nltk.tokenize import word_tokenize, sent_tokenize\n",
        "from nltk.stem import PorterStemmer\n",
        "nltk.download('punkt')\n",
        "nltk.download('stopwords')\n",
        "from scipy import spatial\n",
        "from statistics import mean\n",
        "from math import ceil\n",
        "from rouge_score import rouge_scorer\n",
        "import os"
      ],
      "metadata": {
        "id": "0kEtEt48cww9"
      },
      "execution_count": null,
      "outputs": []
    },
    {
      "cell_type": "code",
      "source": [
        "from google.colab import drive\n",
        "drive.mount('/content/drive')"
      ],
      "metadata": {
        "id": "4oXdYRXLc_hY"
      },
      "execution_count": null,
      "outputs": []
    },
    {
      "cell_type": "code",
      "source": [
        "%cd /content/drive/My Drive/"
      ],
      "metadata": {
        "id": "AkIOwBhsdD31"
      },
      "execution_count": null,
      "outputs": []
    },
    {
      "cell_type": "code",
      "source": [
        "model_skipgram = fasttext.load_model(\"models/model_skipgram.bin\")\n",
        "model_cbow = fasttext.load_model(\"models/model_cbow.bin\")"
      ],
      "metadata": {
        "id": "kLzD7fHedwa5"
      },
      "execution_count": null,
      "outputs": []
    },
    {
      "cell_type": "code",
      "source": [
        "from IPython.display import Image\n",
        "\n",
        "# Provide the path to your PNG file\n",
        "image_path = '/content/473172_1_En_16_Fig1_HTML.png'\n",
        "\n",
        "# Display the image\n",
        "Image(filename=image_path)\n"
      ],
      "metadata": {
        "id": "vOyZKhuIdy_V"
      },
      "execution_count": null,
      "outputs": []
    },
    {
      "cell_type": "code",
      "source": [
        "!unzip -q /content/NLP.zip -d /content/data"
      ],
      "metadata": {
        "id": "bDHmA-2DeGeY"
      },
      "execution_count": null,
      "outputs": []
    },
    {
      "cell_type": "code",
      "source": [
        "#Naive baye's classifier:\n",
        "import pandas as pd #Dataframe Manipulation library\n",
        "import numpy as np #Data Manipulation library\n",
        "\n",
        "#sklearn modules for Feature Extraction & Modelling\n",
        "from sklearn.feature_extraction.text import CountVectorizer, TfidfTransformer\n",
        "from sklearn.naive_bayes import MultinomialNB\n",
        "from sklearn.pipeline import Pipeline\n",
        "from sklearn.model_selection import train_test_split\n",
        "from sklearn.metrics import confusion_matrix\n",
        "#Libraries for Plotting\n",
        "import matplotlib.pyplot as plt\n",
        "from matplotlib.ticker import FuncFormatter\n",
        "from wordcloud import WordCloud, STOPWORDS, ImageColorGenerator\n",
        "from pylab import boxplot, text\n",
        "import seaborn as sns\n",
        "import joblib\n",
        "import os\n",
        "import glob"
      ],
      "metadata": {
        "id": "BU_Krw-Gd-g-"
      },
      "execution_count": null,
      "outputs": []
    },
    {
      "cell_type": "code",
      "source": [
        "print(f\"Current working directory is: {os.getcwd()}\")\n",
        "dir = os.chdir(\"/content\")\n",
        "print(f'Changing directory to {os.getcwd()}')"
      ],
      "metadata": {
        "id": "JE4u2w7fe2NB"
      },
      "execution_count": null,
      "outputs": []
    },
    {
      "cell_type": "code",
      "source": [
        "def load_data(folder_names, root_path):\n",
        "    fileNames = [path + \"/data/BBC News Summary/News Articles/\" + folder + '/' + \"*.txt\"\n",
        "        for path,folder in zip([root_path]*len(folder_names), folder_names)]\n",
        "    #print(fileNames)\n",
        "    #print(\"\\n\")\n",
        "    doc_list = []\n",
        "    tags = folder_names\n",
        "    for docs in fileNames:\n",
        "        #print(docs)\n",
        "        doc = glob.glob(docs)#glob method iterates through all files and reads the text in documents in the folders\n",
        "        for text in doc:\n",
        "            with open(text, encoding=\"latin-1\") as f:\n",
        "                topic = docs.split('/')[len(docs.split('/'))-2]\n",
        "                lines = f.readlines()\n",
        "                heading = lines[0].strip()#stripping the text by spaces and using first element into heading\n",
        "                body = ' '.join([l.strip() for l in lines[1:]])\n",
        "                doc_list.append([topic,heading,body])\n",
        "        print(f\"Loading data from \\033[1m{topic}\\033[0m directory\")\n",
        "    print(\"\\nEntire Data is loaded successfully\")\n",
        "\n",
        "    return doc_list"
      ],
      "metadata": {
        "id": "DNRXRKqFe6OW"
      },
      "execution_count": null,
      "outputs": []
    },
    {
      "cell_type": "code",
      "source": [
        "folder_names = ['business','entertainment','politics','sport','tech']\n",
        "docs = load_data(folder_names=folder_names,root_path=os.getcwd())"
      ],
      "metadata": {
        "id": "rJTvF62PfL0M"
      },
      "execution_count": null,
      "outputs": []
    },
    {
      "cell_type": "code",
      "source": [
        "docs = pd.DataFrame(docs, columns = ['Category','Heading','Article'])"
      ],
      "metadata": {
        "id": "TiO-JzdefNlm"
      },
      "execution_count": null,
      "outputs": []
    },
    {
      "cell_type": "code",
      "source": [
        "docs.head()"
      ],
      "metadata": {
        "id": "hO716FoofO_9"
      },
      "execution_count": null,
      "outputs": []
    },
    {
      "cell_type": "code",
      "source": [
        "docs['text_len']=docs.Heading.apply(len)\n",
        "docs['headlines_len']=docs.Article.apply(len)"
      ],
      "metadata": {
        "id": "pjgB73GgfRno"
      },
      "execution_count": null,
      "outputs": []
    },
    {
      "cell_type": "code",
      "source": [
        "docs['Category'].value_counts().plot.bar()"
      ],
      "metadata": {
        "id": "YUKi2wuafTLX"
      },
      "execution_count": null,
      "outputs": []
    }
  ]
}