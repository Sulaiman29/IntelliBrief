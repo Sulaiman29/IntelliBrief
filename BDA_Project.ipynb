{
  "nbformat": 4,
  "nbformat_minor": 0,
  "metadata": {
    "colab": {
      "provenance": [],
      "include_colab_link": true
    },
    "kernelspec": {
      "name": "python3",
      "display_name": "Python 3"
    },
    "language_info": {
      "name": "python"
    }
  },
  "cells": [
    {
      "cell_type": "markdown",
      "metadata": {
        "id": "view-in-github",
        "colab_type": "text"
      },
      "source": [
        "<a href=\"https://colab.research.google.com/github/Sulaiman29/IntelliBrief/blob/main/BDA_Project.ipynb\" target=\"_parent\"><img src=\"https://colab.research.google.com/assets/colab-badge.svg\" alt=\"Open In Colab\"/></a>"
      ]
    },
    {
      "cell_type": "markdown",
      "source": [
        "### **IntelliBrief News Summarisation System**"
      ],
      "metadata": {
        "id": "Z9e4dXQT5cMn"
      }
    },
    {
      "cell_type": "markdown",
      "source": [
        "**Installing the required dependencies:**"
      ],
      "metadata": {
        "id": "ZmSHqFSR5lTg"
      }
    },
    {
      "cell_type": "code",
      "execution_count": 1,
      "metadata": {
        "id": "_sgk8xh0slXo",
        "colab": {
          "base_uri": "https://localhost:8080/"
        },
        "outputId": "0cf1ca35-16db-4052-9e4e-d04ec04d9278"
      },
      "outputs": [
        {
          "output_type": "stream",
          "name": "stdout",
          "text": [
            "Collecting fasttext\n",
            "  Downloading fasttext-0.9.3.tar.gz (73 kB)\n",
            "\u001b[?25l     \u001b[90m━━━━━━━━━━━━━━━━━━━━━━━━━━━━━━━━━━━━━━━━\u001b[0m \u001b[32m0.0/73.4 kB\u001b[0m \u001b[31m?\u001b[0m eta \u001b[36m-:--:--\u001b[0m\r\u001b[2K     \u001b[90m━━━━━━━━━━━━━━━━━━━━━━━━━━━━━━━━━━━━━━━━\u001b[0m \u001b[32m73.4/73.4 kB\u001b[0m \u001b[31m3.4 MB/s\u001b[0m eta \u001b[36m0:00:00\u001b[0m\n",
            "\u001b[?25h  Installing build dependencies ... \u001b[?25l\u001b[?25hdone\n",
            "  Getting requirements to build wheel ... \u001b[?25l\u001b[?25hdone\n",
            "  Preparing metadata (pyproject.toml) ... \u001b[?25l\u001b[?25hdone\n",
            "Collecting pybind11>=2.2 (from fasttext)\n",
            "  Using cached pybind11-2.13.6-py3-none-any.whl.metadata (9.5 kB)\n",
            "Requirement already satisfied: setuptools>=0.7.0 in /usr/local/lib/python3.11/dist-packages (from fasttext) (75.2.0)\n",
            "Requirement already satisfied: numpy in /usr/local/lib/python3.11/dist-packages (from fasttext) (2.0.2)\n",
            "Using cached pybind11-2.13.6-py3-none-any.whl (243 kB)\n",
            "Building wheels for collected packages: fasttext\n",
            "  Building wheel for fasttext (pyproject.toml) ... \u001b[?25l\u001b[?25hdone\n",
            "  Created wheel for fasttext: filename=fasttext-0.9.3-cp311-cp311-linux_x86_64.whl size=4313501 sha256=2e368cd2277fbbfd96d0aaccf611dee28060cfd6b0155959b32d52a07c212961\n",
            "  Stored in directory: /root/.cache/pip/wheels/65/4f/35/5057db0249224e9ab55a513fa6b79451473ceb7713017823c3\n",
            "Successfully built fasttext\n",
            "Installing collected packages: pybind11, fasttext\n",
            "Successfully installed fasttext-0.9.3 pybind11-2.13.6\n"
          ]
        }
      ],
      "source": [
        "pip install fasttext"
      ]
    },
    {
      "cell_type": "code",
      "source": [
        "pip install rouge-score"
      ],
      "metadata": {
        "id": "rNz124ueceoD",
        "colab": {
          "base_uri": "https://localhost:8080/"
        },
        "outputId": "e9806036-6ec5-4bc6-b4a3-1dfe79762a11"
      },
      "execution_count": 3,
      "outputs": [
        {
          "output_type": "stream",
          "name": "stdout",
          "text": [
            "Collecting rouge-score\n",
            "  Downloading rouge_score-0.1.2.tar.gz (17 kB)\n",
            "  Preparing metadata (setup.py) ... \u001b[?25l\u001b[?25hdone\n",
            "Requirement already satisfied: absl-py in /usr/local/lib/python3.11/dist-packages (from rouge-score) (1.4.0)\n",
            "Requirement already satisfied: nltk in /usr/local/lib/python3.11/dist-packages (from rouge-score) (3.9.1)\n",
            "Requirement already satisfied: numpy in /usr/local/lib/python3.11/dist-packages (from rouge-score) (2.0.2)\n",
            "Requirement already satisfied: six>=1.14.0 in /usr/local/lib/python3.11/dist-packages (from rouge-score) (1.17.0)\n",
            "Requirement already satisfied: click in /usr/local/lib/python3.11/dist-packages (from nltk->rouge-score) (8.2.1)\n",
            "Requirement already satisfied: joblib in /usr/local/lib/python3.11/dist-packages (from nltk->rouge-score) (1.5.0)\n",
            "Requirement already satisfied: regex>=2021.8.3 in /usr/local/lib/python3.11/dist-packages (from nltk->rouge-score) (2024.11.6)\n",
            "Requirement already satisfied: tqdm in /usr/local/lib/python3.11/dist-packages (from nltk->rouge-score) (4.67.1)\n",
            "Building wheels for collected packages: rouge-score\n",
            "  Building wheel for rouge-score (setup.py) ... \u001b[?25l\u001b[?25hdone\n",
            "  Created wheel for rouge-score: filename=rouge_score-0.1.2-py3-none-any.whl size=24934 sha256=cdaa8127b2735671fdf7f2086170e20ec5e754c9b1c2948d77717c4523156c72\n",
            "  Stored in directory: /root/.cache/pip/wheels/1e/19/43/8a442dc83660ca25e163e1bd1f89919284ab0d0c1475475148\n",
            "Successfully built rouge-score\n",
            "Installing collected packages: rouge-score\n",
            "Successfully installed rouge-score-0.1.2\n"
          ]
        }
      ]
    },
    {
      "cell_type": "markdown",
      "source": [
        "**Importing important Libraries:**"
      ],
      "metadata": {
        "id": "yVj7lx4J5wPX"
      }
    },
    {
      "cell_type": "code",
      "source": [
        "import fasttext\n",
        "import nltk\n",
        "from nltk.corpus import stopwords\n",
        "from nltk.tokenize import word_tokenize, sent_tokenize\n",
        "from nltk.stem import PorterStemmer\n",
        "nltk.download('punkt')\n",
        "nltk.download('stopwords')\n",
        "from scipy import spatial\n",
        "from statistics import mean\n",
        "from math import ceil\n",
        "from rouge_score import rouge_scorer\n",
        "import os"
      ],
      "metadata": {
        "id": "0kEtEt48cww9",
        "colab": {
          "base_uri": "https://localhost:8080/"
        },
        "outputId": "b613e111-4654-4949-cef9-475fef0a4e0a"
      },
      "execution_count": 4,
      "outputs": [
        {
          "output_type": "stream",
          "name": "stderr",
          "text": [
            "[nltk_data] Downloading package punkt to /root/nltk_data...\n",
            "[nltk_data]   Unzipping tokenizers/punkt.zip.\n",
            "[nltk_data] Downloading package stopwords to /root/nltk_data...\n",
            "[nltk_data]   Unzipping corpora/stopwords.zip.\n"
          ]
        }
      ]
    },
    {
      "cell_type": "markdown",
      "source": [
        "**Mounting the Google drive, to keep our trained models (Easy to use)**"
      ],
      "metadata": {
        "id": "FU4xruFy55l_"
      }
    },
    {
      "cell_type": "code",
      "source": [
        "from google.colab import drive\n",
        "drive.mount('/content/drive')"
      ],
      "metadata": {
        "id": "4oXdYRXLc_hY",
        "colab": {
          "base_uri": "https://localhost:8080/"
        },
        "outputId": "b4b15c0a-b8f7-42d9-8a6a-ca255515a5b1"
      },
      "execution_count": 5,
      "outputs": [
        {
          "output_type": "stream",
          "name": "stdout",
          "text": [
            "Mounted at /content/drive\n"
          ]
        }
      ]
    },
    {
      "cell_type": "code",
      "source": [
        "%cd /content/drive/My Drive/"
      ],
      "metadata": {
        "id": "AkIOwBhsdD31",
        "colab": {
          "base_uri": "https://localhost:8080/"
        },
        "outputId": "2c3f0e65-0b6a-4e81-ef7e-68adb7b0accc"
      },
      "execution_count": 6,
      "outputs": [
        {
          "output_type": "stream",
          "name": "stdout",
          "text": [
            "/content/drive/My Drive\n"
          ]
        }
      ]
    },
    {
      "cell_type": "markdown",
      "source": [
        "**After training and testing using our saved models to work in a clusterd form**"
      ],
      "metadata": {
        "id": "uQJr9wsV67QH"
      }
    },
    {
      "cell_type": "code",
      "source": [
        "model_skipgram = fasttext.load_model(\"models/model_skipgram.bin\")\n",
        "model_cbow = fasttext.load_model(\"models/model_cbow.bin\")"
      ],
      "metadata": {
        "id": "kLzD7fHedwa5",
        "colab": {
          "base_uri": "https://localhost:8080/",
          "height": 304
        },
        "outputId": "6a373e73-e406-4992-815e-3bd901e36485"
      },
      "execution_count": 7,
      "outputs": [
        {
          "output_type": "error",
          "ename": "ValueError",
          "evalue": "models/model_skipgram.bin cannot be opened for loading!",
          "traceback": [
            "\u001b[0;31m---------------------------------------------------------------------------\u001b[0m",
            "\u001b[0;31mValueError\u001b[0m                                Traceback (most recent call last)",
            "\u001b[0;32m<ipython-input-7-e6fe5e8357a5>\u001b[0m in \u001b[0;36m<cell line: 0>\u001b[0;34m()\u001b[0m\n\u001b[0;32m----> 1\u001b[0;31m \u001b[0mmodel_skipgram\u001b[0m \u001b[0;34m=\u001b[0m \u001b[0mfasttext\u001b[0m\u001b[0;34m.\u001b[0m\u001b[0mload_model\u001b[0m\u001b[0;34m(\u001b[0m\u001b[0;34m\"models/model_skipgram.bin\"\u001b[0m\u001b[0;34m)\u001b[0m\u001b[0;34m\u001b[0m\u001b[0;34m\u001b[0m\u001b[0m\n\u001b[0m\u001b[1;32m      2\u001b[0m \u001b[0mmodel_cbow\u001b[0m \u001b[0;34m=\u001b[0m \u001b[0mfasttext\u001b[0m\u001b[0;34m.\u001b[0m\u001b[0mload_model\u001b[0m\u001b[0;34m(\u001b[0m\u001b[0;34m\"models/model_cbow.bin\"\u001b[0m\u001b[0;34m)\u001b[0m\u001b[0;34m\u001b[0m\u001b[0;34m\u001b[0m\u001b[0m\n",
            "\u001b[0;32m/usr/local/lib/python3.11/dist-packages/fasttext/FastText.py\u001b[0m in \u001b[0;36mload_model\u001b[0;34m(path)\u001b[0m\n\u001b[1;32m    443\u001b[0m \u001b[0;32mdef\u001b[0m \u001b[0mload_model\u001b[0m\u001b[0;34m(\u001b[0m\u001b[0mpath\u001b[0m\u001b[0;34m)\u001b[0m\u001b[0;34m:\u001b[0m\u001b[0;34m\u001b[0m\u001b[0;34m\u001b[0m\u001b[0m\n\u001b[1;32m    444\u001b[0m     \u001b[0;34m\"\"\"Load a model given a filepath and return a model object.\"\"\"\u001b[0m\u001b[0;34m\u001b[0m\u001b[0;34m\u001b[0m\u001b[0m\n\u001b[0;32m--> 445\u001b[0;31m     \u001b[0;32mreturn\u001b[0m \u001b[0m_FastText\u001b[0m\u001b[0;34m(\u001b[0m\u001b[0mmodel_path\u001b[0m\u001b[0;34m=\u001b[0m\u001b[0mpath\u001b[0m\u001b[0;34m)\u001b[0m\u001b[0;34m\u001b[0m\u001b[0;34m\u001b[0m\u001b[0m\n\u001b[0m\u001b[1;32m    446\u001b[0m \u001b[0;34m\u001b[0m\u001b[0m\n\u001b[1;32m    447\u001b[0m \u001b[0;34m\u001b[0m\u001b[0m\n",
            "\u001b[0;32m/usr/local/lib/python3.11/dist-packages/fasttext/FastText.py\u001b[0m in \u001b[0;36m__init__\u001b[0;34m(self, model_path, args)\u001b[0m\n\u001b[1;32m     91\u001b[0m         \u001b[0mself\u001b[0m\u001b[0;34m.\u001b[0m\u001b[0mf\u001b[0m \u001b[0;34m=\u001b[0m \u001b[0mfasttext\u001b[0m\u001b[0;34m.\u001b[0m\u001b[0mfasttext\u001b[0m\u001b[0;34m(\u001b[0m\u001b[0;34m)\u001b[0m\u001b[0;34m\u001b[0m\u001b[0;34m\u001b[0m\u001b[0m\n\u001b[1;32m     92\u001b[0m         \u001b[0;32mif\u001b[0m \u001b[0mmodel_path\u001b[0m \u001b[0;32mis\u001b[0m \u001b[0;32mnot\u001b[0m \u001b[0;32mNone\u001b[0m\u001b[0;34m:\u001b[0m\u001b[0;34m\u001b[0m\u001b[0;34m\u001b[0m\u001b[0m\n\u001b[0;32m---> 93\u001b[0;31m             \u001b[0mself\u001b[0m\u001b[0;34m.\u001b[0m\u001b[0mf\u001b[0m\u001b[0;34m.\u001b[0m\u001b[0mloadModel\u001b[0m\u001b[0;34m(\u001b[0m\u001b[0mmodel_path\u001b[0m\u001b[0;34m)\u001b[0m\u001b[0;34m\u001b[0m\u001b[0;34m\u001b[0m\u001b[0m\n\u001b[0m\u001b[1;32m     94\u001b[0m         \u001b[0mself\u001b[0m\u001b[0;34m.\u001b[0m\u001b[0m_words\u001b[0m \u001b[0;34m=\u001b[0m \u001b[0;32mNone\u001b[0m\u001b[0;34m\u001b[0m\u001b[0;34m\u001b[0m\u001b[0m\n\u001b[1;32m     95\u001b[0m         \u001b[0mself\u001b[0m\u001b[0;34m.\u001b[0m\u001b[0m_labels\u001b[0m \u001b[0;34m=\u001b[0m \u001b[0;32mNone\u001b[0m\u001b[0;34m\u001b[0m\u001b[0;34m\u001b[0m\u001b[0m\n",
            "\u001b[0;31mValueError\u001b[0m: models/model_skipgram.bin cannot be opened for loading!"
          ]
        }
      ]
    },
    {
      "cell_type": "markdown",
      "source": [
        "**Initiating the task:**"
      ],
      "metadata": {
        "id": "tgXxMsut7FmH"
      }
    },
    {
      "cell_type": "code",
      "source": [
        "from IPython.display import Image\n",
        "\n",
        "# Provide the path to your PNG file\n",
        "image_path = '/content/473172_1_En_16_Fig1_HTML.png'\n",
        "\n",
        "# Display the image\n",
        "#Image(filename=image_path)\n"
      ],
      "metadata": {
        "id": "vOyZKhuIdy_V"
      },
      "execution_count": 9,
      "outputs": []
    },
    {
      "cell_type": "markdown",
      "source": [
        "![image.png](data:image/png;base64,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)"
      ],
      "metadata": {
        "id": "SNYztiqO4rbP"
      }
    },
    {
      "cell_type": "markdown",
      "source": [
        "**Unzip the data into respective directory:**"
      ],
      "metadata": {
        "id": "TT-MKg_97Joy"
      }
    },
    {
      "cell_type": "code",
      "source": [
        "!unzip -q /content/Dataset.zip -d /content/data"
      ],
      "metadata": {
        "id": "bDHmA-2DeGeY"
      },
      "execution_count": 11,
      "outputs": []
    },
    {
      "cell_type": "markdown",
      "source": [
        "We begin with the assumption that our input stream is pre-processed, which allows us to apply the Naive Bayes algorithm effectively. We then elaborate the process further by performing feature extraction."
      ],
      "metadata": {
        "id": "jskWV_-I7QhF"
      }
    },
    {
      "cell_type": "code",
      "source": [
        "#Naive baye's classifier:\n",
        "import pandas as pd #Dataframe Manipulation library\n",
        "import numpy as np #Data Manipulation library\n",
        "\n",
        "#sklearn modules for Feature Extraction & Modelling\n",
        "from sklearn.feature_extraction.text import CountVectorizer, TfidfTransformer\n",
        "from sklearn.naive_bayes import MultinomialNB\n",
        "from sklearn.pipeline import Pipeline\n",
        "from sklearn.model_selection import train_test_split\n",
        "from sklearn.metrics import confusion_matrix\n",
        "#Libraries for Plotting\n",
        "import matplotlib.pyplot as plt\n",
        "from matplotlib.ticker import FuncFormatter\n",
        "from wordcloud import WordCloud, STOPWORDS, ImageColorGenerator\n",
        "from pylab import boxplot, text\n",
        "import seaborn as sns\n",
        "import joblib\n",
        "import os\n",
        "import glob"
      ],
      "metadata": {
        "id": "BU_Krw-Gd-g-"
      },
      "execution_count": null,
      "outputs": []
    },
    {
      "cell_type": "code",
      "source": [
        "print(f\"Current working directory is: {os.getcwd()}\")\n",
        "dir = os.chdir(\"/content\")\n",
        "print(f'Changing directory to {os.getcwd()}')"
      ],
      "metadata": {
        "id": "JE4u2w7fe2NB"
      },
      "execution_count": null,
      "outputs": []
    },
    {
      "cell_type": "code",
      "source": [
        "def load_data(folder_names, root_path):\n",
        "    fileNames = [path + \"/data/BBC News Summary/News Articles/\" + folder + '/' + \"*.txt\"\n",
        "        for path,folder in zip([root_path]*len(folder_names), folder_names)]\n",
        "    #print(fileNames)\n",
        "    #print(\"\\n\")\n",
        "    doc_list = []\n",
        "    tags = folder_names\n",
        "    for docs in fileNames:\n",
        "        #print(docs)\n",
        "        doc = glob.glob(docs)#glob method iterates through all files and reads the text in documents in the folders\n",
        "        for text in doc:\n",
        "            with open(text, encoding=\"latin-1\") as f:\n",
        "                topic = docs.split('/')[len(docs.split('/'))-2]\n",
        "                lines = f.readlines()\n",
        "                heading = lines[0].strip()#stripping the text by spaces and using first element into heading\n",
        "                body = ' '.join([l.strip() for l in lines[1:]])\n",
        "                doc_list.append([topic,heading,body])\n",
        "        print(f\"Loading data from \\033[1m{topic}\\033[0m directory\")\n",
        "    print(\"\\nEntire Data is loaded successfully\")\n",
        "\n",
        "    return doc_list"
      ],
      "metadata": {
        "id": "DNRXRKqFe6OW"
      },
      "execution_count": null,
      "outputs": []
    },
    {
      "cell_type": "code",
      "source": [
        "folder_names = ['business','entertainment','politics','sport','tech']\n",
        "docs = load_data(folder_names=folder_names,root_path=os.getcwd())"
      ],
      "metadata": {
        "id": "rJTvF62PfL0M"
      },
      "execution_count": null,
      "outputs": []
    },
    {
      "cell_type": "code",
      "source": [
        "docs = pd.DataFrame(docs, columns = ['Category','Heading','Article'])"
      ],
      "metadata": {
        "id": "TiO-JzdefNlm"
      },
      "execution_count": null,
      "outputs": []
    },
    {
      "cell_type": "code",
      "source": [
        "docs.head()"
      ],
      "metadata": {
        "id": "hO716FoofO_9"
      },
      "execution_count": null,
      "outputs": []
    },
    {
      "cell_type": "code",
      "source": [
        "docs['text_len']=docs.Heading.apply(len)\n",
        "docs['headlines_len']=docs.Article.apply(len)"
      ],
      "metadata": {
        "id": "pjgB73GgfRno"
      },
      "execution_count": null,
      "outputs": []
    },
    {
      "cell_type": "code",
      "source": [
        "docs['Category'].value_counts().plot.bar()"
      ],
      "metadata": {
        "id": "YUKi2wuafTLX"
      },
      "execution_count": null,
      "outputs": []
    },
    {
      "cell_type": "code",
      "source": [
        "docs.head()"
      ],
      "metadata": {
        "id": "kZUUYuXFgRQ1"
      },
      "execution_count": null,
      "outputs": []
    },
    {
      "cell_type": "code",
      "source": [
        "fig, axes = plt.subplots(nrows=1, ncols=2, figsize=(15, 5))\n",
        "sns.histplot(docs.text_len, ax=axes[0], color='blue')\n",
        "sns.histplot(docs.headlines_len, ax=axes[1], color='red')"
      ],
      "metadata": {
        "id": "PSRzcfXWgS_8"
      },
      "execution_count": null,
      "outputs": []
    },
    {
      "cell_type": "code",
      "source": [
        "tags_values = docs.Category.value_counts()\n",
        "tags_values"
      ],
      "metadata": {
        "id": "XCHBGf9ygWDR"
      },
      "execution_count": null,
      "outputs": []
    },
    {
      "cell_type": "code",
      "source": [
        "def plot_boxplot(df, varibale):\n",
        "  fig1, ax1 = plt.subplots(figsize=(10,2))\n",
        "  ax1.set_title(f'BoxPlot of {variable}', fontsize=18)\n",
        "  values = list(df[variable].values)\n",
        "  ax1.boxplot(values, vert=False, showfliers=False, widths = 0.6);\n",
        "\n",
        "  bp_dict = boxplot(values, vert=False, showfliers=False, widths = 0.6)\n",
        "\n",
        "\n",
        "  for line in bp_dict['medians']:\n",
        "      # get position data for median line\n",
        "      x, y = line.get_xydata()[1] # top of median line\n",
        "      # overlay median value\n",
        "      text(x, y+0.05, '%.1f' % x,\n",
        "          horizontalalignment='center', fontsize=14) # draw above, centered\n",
        "\n",
        "  for line in bp_dict['whiskers']:\n",
        "      # get position data for median line\n",
        "      x, y = line.get_xydata()[1] # top of median line\n",
        "      # overlay median value\n",
        "      text(x, y+0.3, '%.1f' % x,\n",
        "          horizontalalignment='center', fontsize=14) # draw above, centered\n",
        "\n",
        "  for line in bp_dict['boxes']:\n",
        "      x, y = line.get_xydata()[0] # bottom of left line\n",
        "      text(x,y-0.02, '%.1f' % x,\n",
        "          horizontalalignment='center', # centered\n",
        "          verticalalignment='top', fontsize=14)      # below\n",
        "      x, y = line.get_xydata()[3] # bottom of right line\n",
        "      text(x,y-0.02, '%.1f' % x,\n",
        "          horizontalalignment='center', # centered\n",
        "              verticalalignment='top', fontsize=14)      # below\n",
        "\n",
        "  plt.xlabel(variable, fontsize=10)\n",
        "  plt.xticks(fontsize=8)\n",
        "  plt.yticks(fontsize=8)\n",
        "  plt.show()"
      ],
      "metadata": {
        "id": "AEIfIFZbgb4K"
      },
      "execution_count": null,
      "outputs": []
    },
    {
      "cell_type": "code",
      "source": [
        "for variable in ['text_len','headlines_len']:\n",
        "  plot_boxplot(docs, variable)"
      ],
      "metadata": {
        "id": "BU3oR15Cgerp"
      },
      "execution_count": null,
      "outputs": []
    },
    {
      "cell_type": "code",
      "source": [
        "#Creating a list of text belonging to individual category of articles\n",
        "\n",
        "heading_sport = docs[docs[\"Category\"]=='sport'][\"Heading\"] #Extracting the headings of the\n",
        "#print(heading_sport)\n",
        "collapsed_heading_sport =heading_sport.str.cat(sep = ' ') #\n",
        "#print(collapsed_heading_sport)\n",
        "\n",
        "heading_business = docs[docs[\"Category\"]=='business'][\"Heading\"] #Extracting the headings\n",
        "collapsed_heading_business =heading_business.str.cat(sep = ' ')\n",
        "\n",
        "heading_politics = docs[docs[\"Category\"]=='politics'][\"Heading\"]\n",
        "collapsed_heading_politics =heading_politics.str.cat(sep = ' ')\n",
        "\n",
        "heading_tech = docs[docs[\"Category\"]=='tech'][\"Heading\"]\n",
        "collapsed_heading_tech =heading_tech.str.cat(sep = ' ')\n",
        "\n",
        "heading_entertainment = docs[docs[\"Category\"]=='entertainment'][\"Heading\"]\n",
        "collapsed_heading_entertainment =heading_entertainment.str.cat(sep = ' ')"
      ],
      "metadata": {
        "id": "2LR5uXkYghKz"
      },
      "execution_count": null,
      "outputs": []
    },
    {
      "cell_type": "code",
      "source": [
        "#Creating List of Stopwords\n",
        "stopwords = set(STOPWORDS)"
      ],
      "metadata": {
        "id": "9QmwVXAegjU9"
      },
      "execution_count": null,
      "outputs": []
    },
    {
      "cell_type": "code",
      "source": [
        "print('\\033[1m'\"\\nSports\"'\\033[0m')\n",
        "#Generate a Word Cloud for Sports\n",
        "wordcloud = WordCloud(stopwords=stopwords, background_color='black', max_words=50).generate(collapsed_heading_sport)#Initializing the Word Cloud Class\n",
        "#Display the generated Word cloud as image\n",
        "plt.imshow(wordcloud, interpolation='bilinear')\n",
        "plt.axis('off')\n",
        "plt.show()\n",
        "\n",
        "\n",
        "print('\\033[1m'\"\\nBusiness\"'\\033[0m')\n",
        "#Generate a Word Cloud for Business\n",
        "wordcloud = WordCloud(stopwords=stopwords, background_color='orange', max_words=50).generate(collapsed_heading_business)#Initializing the Word Cloud Class\n",
        "#Display the generated Word cloud as image\n",
        "plt.imshow(wordcloud, interpolation='bilinear')\n",
        "plt.axis('off')\n",
        "plt.show()"
      ],
      "metadata": {
        "id": "uOel6nfMgk4e"
      },
      "execution_count": null,
      "outputs": []
    },
    {
      "cell_type": "code",
      "source": [
        "\"\"\"\n",
        " Finally, the transformed data is fed into a\n",
        " Multinomial Naive Bayes classifier to predict the\n",
        " category or label of the input text.\n",
        "\"\"\"\n",
        "#Building pipeline for raw text transformation\n",
        "clf = Pipeline([\n",
        "    ('vect', CountVectorizer(stop_words='english')),\n",
        "    ('tfidf', TfidfTransformer()),\n",
        "    ('classifier', MultinomialNB()), #Apply the transformed data to Multinomial Naive Bayes Algo\n",
        "])"
      ],
      "metadata": {
        "id": "CmksHMdbgoFQ"
      },
      "execution_count": null,
      "outputs": []
    },
    {
      "cell_type": "code",
      "source": [
        "x_train, x_test, y_train, y_test = train_test_split(docs['Heading'],docs['Category'],\n",
        "                                                   random_state=42, test_size=0.2)\n",
        "print(f\"Size of input training data is {x_train.shape}\")\n",
        "print(f\"Size of input test data is {x_test.shape}\")\n",
        "print(f\"Size of output training data is {y_train.shape}\")\n",
        "print(f\"Size of output test data is {y_test.shape}\")"
      ],
      "metadata": {
        "id": "oVqfJvQugqSl"
      },
      "execution_count": null,
      "outputs": []
    },
    {
      "cell_type": "code",
      "source": [
        "model = clf.fit(x_train,y_train) #fit the clf pipeline to training data"
      ],
      "metadata": {
        "id": "cHI82-dYgwLf"
      },
      "execution_count": null,
      "outputs": []
    },
    {
      "cell_type": "code",
      "source": [
        "#Accuracy of the Naive Bayes Model\n",
        "mdl_score = \"{:.2f}\".format(model.score(x_test,y_test) * 100)\n",
        "print(f\"The Accuracy of the Naive Bayes Classifier Model is {mdl_score}%\")\n",
        "print(f\"\\n{mdl_score}% of the times the model predicts the correct category for the news article\")"
      ],
      "metadata": {
        "id": "WY5znbB2gyJP"
      },
      "execution_count": null,
      "outputs": []
    },
    {
      "cell_type": "code",
      "source": [
        "#Predicting on the test data\n",
        "y_pred_NB = model.predict(x_test)\n",
        "y_pred_NB[:5]\n"
      ],
      "metadata": {
        "id": "8RyM1tE_gzpu"
      },
      "execution_count": null,
      "outputs": []
    },
    {
      "cell_type": "code",
      "source": [
        "#Confusion Matrix to evaluate the accuracy of a classification\n",
        "cnf_mat = confusion_matrix(y_test,y_pred_NB)\n",
        "np.set_printoptions(precision=2)\n",
        "cnf_mat\n"
      ],
      "metadata": {
        "id": "c4jDDbAzg1XX"
      },
      "execution_count": null,
      "outputs": []
    },
    {
      "cell_type": "code",
      "source": [
        "import itertools\n",
        "\n",
        "def plot_confusion_matrix(cm,classes,\n",
        "                          normalize = False,\n",
        "                          title = \"Confusion Matrix\",\n",
        "                          cmap = plt.cm.Blues):\n",
        "    \"\"\"\n",
        "    This function prints and plots the confusion matrix.\n",
        "    Normalization can be applied by setting `normalize=True`.\n",
        "    \"\"\"\n",
        "    if normalize:\n",
        "        cm = cm.astype('float') / cm.sum(axis=1)[:,np.newaxis]\n",
        "        print(\"Normalized Confusion Matrix\")\n",
        "    else:\n",
        "        print(\"Confusion Matrix, without Normalization\")\n",
        "\n",
        "    print(cm)\n",
        "#show data as image using plt.imshow\n",
        "    plt.imshow(cm,interpolation='nearest',cmap = cmap)\n",
        "    plt.title(title)\n",
        "    plt.colorbar()\n",
        "#ARANGE : returns evenly spaced values from the given interval\n",
        "# and the advantage of numpy.arange() over the normal in-built range() function is that it allows us to generate sequences of numbers that are not integers\n",
        "    tick_marks = np.arange(len(classes))\n",
        "    plt.xticks(tick_marks,classes,rotation = 45)\n",
        "    plt.yticks(tick_marks,classes)\n",
        "\n",
        "    fmt = '.2f' if normalize else 'd'\n",
        "    thresh = cm.max()/2.\n",
        "    for i,j in itertools.product(range(cm.shape[0]),range(cm.shape[1])):\n",
        "        plt.text(j,i,format(cm[i,j],fmt),\n",
        "                 horizontalalignment = 'center',\n",
        "                 color = 'white' if cm[i,j] > thresh else 'black')\n",
        "\n",
        "    plt.xlabel = 'True Article Category'\n",
        "    plt.ylabel = 'Predicted Article Category'\n",
        "\n"
      ],
      "metadata": {
        "id": "0zSj6QIXg3Kf"
      },
      "execution_count": null,
      "outputs": []
    },
    {
      "cell_type": "code",
      "source": [
        "#Without Normalization\n",
        "plt.figure()\n",
        "plot_confusion_matrix(cnf_mat, classes=['business','entertainment','politics','sport','tech'],\n",
        "                      title='Confusion matrix, without normalization')\n",
        "# With normalization\n",
        "plt.figure()\n",
        "plot_confusion_matrix(cnf_mat,['business','entertainment','politics','sport','tech'], normalize=True,\n",
        "                      title='Normalized confusion matrix')\n",
        "\n",
        "plt.show()"
      ],
      "metadata": {
        "id": "xrMI3U6Qg5M_"
      },
      "execution_count": null,
      "outputs": []
    }
  ]
}